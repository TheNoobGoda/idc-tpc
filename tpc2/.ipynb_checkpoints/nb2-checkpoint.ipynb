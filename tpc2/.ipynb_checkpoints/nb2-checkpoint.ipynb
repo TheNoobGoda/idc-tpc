{
 "cells": [
  {
   "cell_type": "code",
   "execution_count": 3,
   "id": "b4a7f992-2bb3-4554-a60f-c4ea40501fbe",
   "metadata": {},
   "outputs": [],
   "source": [
    "import pandas as pd\n",
    "import numpy as np\n",
    "import matplotlib.pyplot as plt"
   ]
  },
  {
   "cell_type": "markdown",
   "id": "bd1f675d-30e2-4da9-8cd9-2b461c912aa8",
   "metadata": {},
   "source": [
    "Distance 4: We can use the Jaccard similarity and then calculate the distance with 1-similarity."
   ]
  },
  {
   "cell_type": "code",
   "execution_count": null,
   "id": "5384bdd0-cf10-400f-bf5d-7209249a3c55",
   "metadata": {},
   "outputs": [],
   "source": [
    "iris = pd.read_csv('https://raw.githubusercontent.com/mwaskom/seaborn-data/master/iris.csv')\n",
    "\n"
   ]
  }
 ],
 "metadata": {
  "kernelspec": {
   "display_name": "Python 3 (ipykernel)",
   "language": "python",
   "name": "python3"
  },
  "language_info": {
   "codemirror_mode": {
    "name": "ipython",
    "version": 3
   },
   "file_extension": ".py",
   "mimetype": "text/x-python",
   "name": "python",
   "nbconvert_exporter": "python",
   "pygments_lexer": "ipython3",
   "version": "3.11.3"
  }
 },
 "nbformat": 4,
 "nbformat_minor": 5
}
